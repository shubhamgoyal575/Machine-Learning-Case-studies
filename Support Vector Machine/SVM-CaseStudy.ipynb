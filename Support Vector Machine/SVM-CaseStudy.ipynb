{
 "cells": [
  {
   "cell_type": "markdown",
   "id": "35f12a3d-e23b-4a2a-aade-d6a76f9ea04d",
   "metadata": {},
   "source": [
    "<div class='alert alert-info alert-block' align='center'><h1><b>Finding the Yeast Type</b></h1></div>\n",
    "<div  align='center'><h5><b>By using Support Vector Machine Model</b></h5></div>\n",
    "\n",
    "## Problem Statement\n",
    "\n",
    "One of the Microbiology companies is looking to classify the cellular localization sites of proteins based on the dataset. Here, you are working on the dataset with various features, which are the dimensions and singles given by the business. You have to create a classification algorithm using the support vector machine.\n",
    "\n",
    "## Data Dictionary of the dataset\n",
    "- Sequence Name - Accession number for the SWISS-PROT database\n",
    "- mcg - McGeoch's method for signal sequence recognition\n",
    "- gvh - von Heijne's method for signal sequence recognition\n",
    "- alm - Score of the ALOM membrane spanning region prediction program\n",
    "- mit - Score of discriminant analysis of the amino acid content of the N-terminal region (20 residues long) of mitochondrial and non-mitochondrial proteins\n",
    "- erl - Presence of \"HDEL\" substring (thought to act as a signal for retention in the endoplasmic reticulum lumen), binary attribute\n",
    "- pox - Peroxisomal targeting signal in the C-terminus\n",
    "- vac - Score of discriminant analysis of the amino acid content of vacuolar and extracellular proteins\n",
    "- nuc - Score of discriminant analysis of nuclear localization signals of nuclear and non-nuclear proteins\n",
    "- YeastType - This is the dependent variable"
   ]
  },
  {
   "cell_type": "code",
   "execution_count": 4,
   "id": "4550fa0a-0812-414d-9c3a-f015fc883fb6",
   "metadata": {},
   "outputs": [],
   "source": [
    "# Importing the libraries\n",
    "\n",
    "import pandas as pd\n",
    "import numpy as np\n",
    "import matplotlib.pyplot as plt\n",
    "import seaborn as sns\n",
    "\n",
    "# importing libraries for modelling\n",
    "from sklearn.model_selection import train_test_split , GridSearchCV,cross_val_score\n",
    "from sklearn.svm import SVC\n",
    "from sklearn.metrics import accuracy_score , precision_score , f1_score , recall_score , confusion_matrix , ConfusionMatrixDisplay , roc_auc_score , \\\n",
    "roc_curve\n",
    "from sklearn.metrics import classification_report\n",
    "from sklearn.metrics import log_loss \n",
    "from sklearn.preprocessing import StandardScaler , LabelEncoder\n",
    "\n",
    "import warnings\n",
    "warnings.filterwarnings('ignore')"
   ]
  },
  {
   "cell_type": "code",
   "execution_count": 6,
   "id": "7c63946c-404c-4de9-94a1-417aa47ba0b2",
   "metadata": {},
   "outputs": [
    {
     "data": {
      "text/html": [
       "<div>\n",
       "<style scoped>\n",
       "    .dataframe tbody tr th:only-of-type {\n",
       "        vertical-align: middle;\n",
       "    }\n",
       "\n",
       "    .dataframe tbody tr th {\n",
       "        vertical-align: top;\n",
       "    }\n",
       "\n",
       "    .dataframe thead th {\n",
       "        text-align: right;\n",
       "    }\n",
       "</style>\n",
       "<table border=\"1\" class=\"dataframe\">\n",
       "  <thead>\n",
       "    <tr style=\"text-align: right;\">\n",
       "      <th></th>\n",
       "      <th>SequenceName</th>\n",
       "      <th>MCG</th>\n",
       "      <th>GVH</th>\n",
       "      <th>ALM</th>\n",
       "      <th>MIT</th>\n",
       "      <th>ERL</th>\n",
       "      <th>POX</th>\n",
       "      <th>VAC</th>\n",
       "      <th>NUC</th>\n",
       "      <th>YeastType</th>\n",
       "    </tr>\n",
       "  </thead>\n",
       "  <tbody>\n",
       "    <tr>\n",
       "      <th>0</th>\n",
       "      <td>AAR2_YEAST</td>\n",
       "      <td>0.58</td>\n",
       "      <td>0.44</td>\n",
       "      <td>0.57</td>\n",
       "      <td>0.13</td>\n",
       "      <td>0.5</td>\n",
       "      <td>0.0</td>\n",
       "      <td>0.54</td>\n",
       "      <td>0.22</td>\n",
       "      <td>NUC</td>\n",
       "    </tr>\n",
       "    <tr>\n",
       "      <th>1</th>\n",
       "      <td>AATC_YEAST</td>\n",
       "      <td>0.51</td>\n",
       "      <td>0.40</td>\n",
       "      <td>0.56</td>\n",
       "      <td>0.17</td>\n",
       "      <td>0.5</td>\n",
       "      <td>0.5</td>\n",
       "      <td>0.49</td>\n",
       "      <td>0.22</td>\n",
       "      <td>CYT</td>\n",
       "    </tr>\n",
       "    <tr>\n",
       "      <th>2</th>\n",
       "      <td>BAF1_YEAST</td>\n",
       "      <td>0.48</td>\n",
       "      <td>0.45</td>\n",
       "      <td>0.59</td>\n",
       "      <td>0.20</td>\n",
       "      <td>0.5</td>\n",
       "      <td>0.0</td>\n",
       "      <td>0.58</td>\n",
       "      <td>0.34</td>\n",
       "      <td>NUC</td>\n",
       "    </tr>\n",
       "    <tr>\n",
       "      <th>3</th>\n",
       "      <td>ABP1_YEAST</td>\n",
       "      <td>0.40</td>\n",
       "      <td>0.39</td>\n",
       "      <td>0.60</td>\n",
       "      <td>0.15</td>\n",
       "      <td>0.5</td>\n",
       "      <td>0.0</td>\n",
       "      <td>0.58</td>\n",
       "      <td>0.30</td>\n",
       "      <td>CYT</td>\n",
       "    </tr>\n",
       "    <tr>\n",
       "      <th>4</th>\n",
       "      <td>ACE1_YEAST</td>\n",
       "      <td>0.43</td>\n",
       "      <td>0.39</td>\n",
       "      <td>0.54</td>\n",
       "      <td>0.21</td>\n",
       "      <td>0.5</td>\n",
       "      <td>0.0</td>\n",
       "      <td>0.53</td>\n",
       "      <td>0.27</td>\n",
       "      <td>NUC</td>\n",
       "    </tr>\n",
       "  </tbody>\n",
       "</table>\n",
       "</div>"
      ],
      "text/plain": [
       "  SequenceName   MCG   GVH   ALM   MIT  ERL  POX   VAC   NUC YeastType\n",
       "0   AAR2_YEAST  0.58  0.44  0.57  0.13  0.5  0.0  0.54  0.22       NUC\n",
       "1   AATC_YEAST  0.51  0.40  0.56  0.17  0.5  0.5  0.49  0.22       CYT\n",
       "2   BAF1_YEAST  0.48  0.45  0.59  0.20  0.5  0.0  0.58  0.34       NUC\n",
       "3   ABP1_YEAST  0.40  0.39  0.60  0.15  0.5  0.0  0.58  0.30       CYT\n",
       "4   ACE1_YEAST  0.43  0.39  0.54  0.21  0.5  0.0  0.53  0.27       NUC"
      ]
     },
     "execution_count": 6,
     "metadata": {},
     "output_type": "execute_result"
    }
   ],
   "source": [
    "# Loading the dataset\n",
    "\n",
    "df = pd.read_csv(r\"Yeast_Data.csv\")\n",
    "df.head()"
   ]
  },
  {
   "cell_type": "code",
   "execution_count": 8,
   "id": "9f748b51-724f-476b-ad94-a91ff4422661",
   "metadata": {},
   "outputs": [
    {
     "data": {
      "text/plain": [
       "(892, 10)"
      ]
     },
     "execution_count": 8,
     "metadata": {},
     "output_type": "execute_result"
    }
   ],
   "source": [
    "# rows and columns of the data\n",
    "df.shape"
   ]
  },
  {
   "cell_type": "code",
   "execution_count": 12,
   "id": "d47b8ed0-2530-42e5-a152-649d55044460",
   "metadata": {},
   "outputs": [
    {
     "name": "stdout",
     "output_type": "stream",
     "text": [
      "<class 'pandas.core.frame.DataFrame'>\n",
      "RangeIndex: 892 entries, 0 to 891\n",
      "Data columns (total 10 columns):\n",
      " #   Column        Non-Null Count  Dtype  \n",
      "---  ------        --------------  -----  \n",
      " 0   SequenceName  892 non-null    object \n",
      " 1   MCG           892 non-null    float64\n",
      " 2   GVH           892 non-null    float64\n",
      " 3   ALM           892 non-null    float64\n",
      " 4   MIT           892 non-null    float64\n",
      " 5   ERL           892 non-null    float64\n",
      " 6   POX           892 non-null    float64\n",
      " 7   VAC           892 non-null    float64\n",
      " 8   NUC           892 non-null    float64\n",
      " 9   YeastType     892 non-null    object \n",
      "dtypes: float64(8), object(2)\n",
      "memory usage: 69.8+ KB\n"
     ]
    }
   ],
   "source": [
    "# information about data\n",
    "df.info()"
   ]
  },
  {
   "cell_type": "code",
   "execution_count": 14,
   "id": "85184d1c-18d8-49ca-8476-b68d9174f80f",
   "metadata": {},
   "outputs": [
    {
     "data": {
      "text/plain": [
       "SequenceName    0\n",
       "MCG             0\n",
       "GVH             0\n",
       "ALM             0\n",
       "MIT             0\n",
       "ERL             0\n",
       "POX             0\n",
       "VAC             0\n",
       "NUC             0\n",
       "YeastType       0\n",
       "dtype: int64"
      ]
     },
     "execution_count": 14,
     "metadata": {},
     "output_type": "execute_result"
    }
   ],
   "source": [
    "# Checking for null values in data\n",
    "df.isnull().sum()"
   ]
  },
  {
   "cell_type": "markdown",
   "id": "2de77eb1-143c-439b-b47c-137e7362e0b1",
   "metadata": {},
   "source": [
    "**There are no null values in the data**"
   ]
  },
  {
   "cell_type": "code",
   "execution_count": 18,
   "id": "4815a3d8-0243-4ad2-bd52-2bfba32a9a05",
   "metadata": {},
   "outputs": [
    {
     "data": {
      "text/plain": [
       "22"
      ]
     },
     "execution_count": 18,
     "metadata": {},
     "output_type": "execute_result"
    }
   ],
   "source": [
    "# Checking for duplicates\n",
    "df.duplicated().sum()"
   ]
  },
  {
   "cell_type": "code",
   "execution_count": 20,
   "id": "f756d186-72bf-4c9e-98da-67e1b0fc3008",
   "metadata": {},
   "outputs": [],
   "source": [
    "# dropping duplicates records\n",
    "df.drop_duplicates(inplace=True)"
   ]
  },
  {
   "cell_type": "markdown",
   "id": "34d2000a-58c4-4fb1-b098-03c77966f208",
   "metadata": {},
   "source": [
    "<div class='alert alert-info alert-block' align='center'><h3><b>Exploratory Data Analysis</b></h3></div>"
   ]
  },
  {
   "cell_type": "code",
   "execution_count": 24,
   "id": "44280181-a8bf-406e-9742-b69170c3c523",
   "metadata": {},
   "outputs": [
    {
     "data": {
      "text/html": [
       "<div>\n",
       "<style scoped>\n",
       "    .dataframe tbody tr th:only-of-type {\n",
       "        vertical-align: middle;\n",
       "    }\n",
       "\n",
       "    .dataframe tbody tr th {\n",
       "        vertical-align: top;\n",
       "    }\n",
       "\n",
       "    .dataframe thead th {\n",
       "        text-align: right;\n",
       "    }\n",
       "</style>\n",
       "<table border=\"1\" class=\"dataframe\">\n",
       "  <thead>\n",
       "    <tr style=\"text-align: right;\">\n",
       "      <th></th>\n",
       "      <th>MCG</th>\n",
       "      <th>GVH</th>\n",
       "      <th>ALM</th>\n",
       "      <th>MIT</th>\n",
       "      <th>ERL</th>\n",
       "      <th>POX</th>\n",
       "      <th>VAC</th>\n",
       "      <th>NUC</th>\n",
       "    </tr>\n",
       "  </thead>\n",
       "  <tbody>\n",
       "    <tr>\n",
       "      <th>count</th>\n",
       "      <td>870.000000</td>\n",
       "      <td>870.000000</td>\n",
       "      <td>870.000000</td>\n",
       "      <td>870.000000</td>\n",
       "      <td>870.000000</td>\n",
       "      <td>870.000000</td>\n",
       "      <td>870.000000</td>\n",
       "      <td>870.000000</td>\n",
       "    </tr>\n",
       "    <tr>\n",
       "      <th>mean</th>\n",
       "      <td>0.466977</td>\n",
       "      <td>0.463931</td>\n",
       "      <td>0.530839</td>\n",
       "      <td>0.226011</td>\n",
       "      <td>0.504023</td>\n",
       "      <td>0.000575</td>\n",
       "      <td>0.498402</td>\n",
       "      <td>0.295172</td>\n",
       "    </tr>\n",
       "    <tr>\n",
       "      <th>std</th>\n",
       "      <td>0.109883</td>\n",
       "      <td>0.101297</td>\n",
       "      <td>0.058896</td>\n",
       "      <td>0.110786</td>\n",
       "      <td>0.044695</td>\n",
       "      <td>0.016952</td>\n",
       "      <td>0.060480</td>\n",
       "      <td>0.122338</td>\n",
       "    </tr>\n",
       "    <tr>\n",
       "      <th>min</th>\n",
       "      <td>0.110000</td>\n",
       "      <td>0.130000</td>\n",
       "      <td>0.320000</td>\n",
       "      <td>0.000000</td>\n",
       "      <td>0.500000</td>\n",
       "      <td>0.000000</td>\n",
       "      <td>0.000000</td>\n",
       "      <td>0.000000</td>\n",
       "    </tr>\n",
       "    <tr>\n",
       "      <th>25%</th>\n",
       "      <td>0.390000</td>\n",
       "      <td>0.400000</td>\n",
       "      <td>0.500000</td>\n",
       "      <td>0.160000</td>\n",
       "      <td>0.500000</td>\n",
       "      <td>0.000000</td>\n",
       "      <td>0.470000</td>\n",
       "      <td>0.220000</td>\n",
       "    </tr>\n",
       "    <tr>\n",
       "      <th>50%</th>\n",
       "      <td>0.470000</td>\n",
       "      <td>0.460000</td>\n",
       "      <td>0.530000</td>\n",
       "      <td>0.190000</td>\n",
       "      <td>0.500000</td>\n",
       "      <td>0.000000</td>\n",
       "      <td>0.510000</td>\n",
       "      <td>0.250000</td>\n",
       "    </tr>\n",
       "    <tr>\n",
       "      <th>75%</th>\n",
       "      <td>0.540000</td>\n",
       "      <td>0.530000</td>\n",
       "      <td>0.560000</td>\n",
       "      <td>0.270000</td>\n",
       "      <td>0.500000</td>\n",
       "      <td>0.000000</td>\n",
       "      <td>0.530000</td>\n",
       "      <td>0.330000</td>\n",
       "    </tr>\n",
       "    <tr>\n",
       "      <th>max</th>\n",
       "      <td>0.900000</td>\n",
       "      <td>0.830000</td>\n",
       "      <td>1.000000</td>\n",
       "      <td>1.000000</td>\n",
       "      <td>1.000000</td>\n",
       "      <td>0.500000</td>\n",
       "      <td>0.730000</td>\n",
       "      <td>1.000000</td>\n",
       "    </tr>\n",
       "  </tbody>\n",
       "</table>\n",
       "</div>"
      ],
      "text/plain": [
       "              MCG         GVH         ALM         MIT         ERL         POX  \\\n",
       "count  870.000000  870.000000  870.000000  870.000000  870.000000  870.000000   \n",
       "mean     0.466977    0.463931    0.530839    0.226011    0.504023    0.000575   \n",
       "std      0.109883    0.101297    0.058896    0.110786    0.044695    0.016952   \n",
       "min      0.110000    0.130000    0.320000    0.000000    0.500000    0.000000   \n",
       "25%      0.390000    0.400000    0.500000    0.160000    0.500000    0.000000   \n",
       "50%      0.470000    0.460000    0.530000    0.190000    0.500000    0.000000   \n",
       "75%      0.540000    0.530000    0.560000    0.270000    0.500000    0.000000   \n",
       "max      0.900000    0.830000    1.000000    1.000000    1.000000    0.500000   \n",
       "\n",
       "              VAC         NUC  \n",
       "count  870.000000  870.000000  \n",
       "mean     0.498402    0.295172  \n",
       "std      0.060480    0.122338  \n",
       "min      0.000000    0.000000  \n",
       "25%      0.470000    0.220000  \n",
       "50%      0.510000    0.250000  \n",
       "75%      0.530000    0.330000  \n",
       "max      0.730000    1.000000  "
      ]
     },
     "execution_count": 24,
     "metadata": {},
     "output_type": "execute_result"
    }
   ],
   "source": [
    "# statistics description about the data\n",
    "df.describe()"
   ]
  },
  {
   "cell_type": "code",
   "execution_count": 26,
   "id": "17eb1fed-c942-4e6a-b99b-63057df7f4e3",
   "metadata": {},
   "outputs": [
    {
     "name": "stdout",
     "output_type": "stream",
     "text": [
      "Column : SequenceName\n",
      "Unique Record : 870\n",
      "['AAR2_YEAST' 'AATC_YEAST' 'BAF1_YEAST' 'ABP1_YEAST' 'ACE1_YEAST'\n",
      " 'ACE2_YEAST' 'ACH1_YEAST' 'ACT_YEAST' 'ACT2_YEAST' 'ACT3_YEAST'\n",
      " 'ACT5_YEAST' 'ADA2_YEAST' 'C1TC_YEAST' 'PUR4_YEAST' 'PUR3_YEAST'\n",
      " 'ADH1_YEAST' 'ADH2_YEAST' 'ADH4_YEAST' 'KAD1_YEAST' 'ADR1_YEAST'\n",
      " 'AFR1_YEAST' 'RCS1_YEAST' 'SYAC_YEAST' 'ANC1_YEAST' 'ADB2_YEAST'\n",
      " 'APN1_YEAST' 'ARD1_YEAST' 'ARF1_YEAST' 'ARF2_YEAST' 'ASSY_YEAST'\n",
      " 'OTC_YEAST' 'ARLY_YEAST' 'ARG1_YEAST' 'ARG2_YEAST' 'ARG3_YEAST'\n",
      " 'ARO1_YEAST' 'AROC_YEAST' 'AROF_YEAST' 'AROG_YEAST' 'CHMU_YEAST'\n",
      " 'AST1_YEAST' 'ATE1_YEAST' 'BAS1_YEAST' 'BCK1_YEAST' 'BCK2_YEAST'\n",
      " 'KAPR_YEAST' 'BDF1_YEAST' 'BEM1_YEAST' 'BIK1_YEAST' 'BUD5_YEAST'\n",
      " 'CAD1_YEAST' 'CAP2_YEAST' 'CAPA_YEAST' 'CAPB_YEAST' 'ARGI_YEAST'\n",
      " 'OAT_YEAST' 'CAT8_YEAST' 'CBF1_YEAST' 'CB32_YEAST' 'CBF5_YEAST'\n",
      " 'CCL1_YEAST' 'CCR4_YEAST' 'CTPT_YEAST' 'CC10_YEAST' 'CC11_YEAST'\n",
      " 'CC12_YEAST' 'CC16_YEAST' 'CC23_YEAST' 'CC24_YEAST' 'CC27_YEAST'\n",
      " 'CDC3_YEAST' 'CC31_YEAST' 'IF4E_YEAST' 'UBC3_YEAST' 'NOT2_YEAST'\n",
      " 'NOT1_YEAST' 'CC4_YEAST' 'CC40_YEAST' 'CC42_YEAST' 'CAL1_YEAST'\n",
      " 'RFC1_YEAST' 'CC46_YEAST' 'YB52_YEAST' 'CC48_YEAST' 'CC6_YEAST'\n",
      " 'SYLC_YEAST' 'CC68_YEAST' 'CC7_YEAST' 'KTHY_YEAST' 'DNLI_YEAST'\n",
      " 'MCE1_YEAST' 'RLUB_YEAST' 'CLH_YEAST' 'CHL1_YEAST' 'CHL4_YEAST'\n",
      " 'CIK1_YEAST' 'CIN1_YEAST' 'CIN4_YEAST' 'CIN8_YEAST' 'KC21_YEAST'\n",
      " 'KC22_YEAST' 'KC2C_YEAST' 'KICH_YEAST' 'CLC1_YEAST' 'CG11_YEAST'\n",
      " 'CG12_YEAST' 'CG13_YEAST' 'CALM_YEAST' 'KCC1_YEAST' 'KCC2_YEAST'\n",
      " 'P2B1_YEAST' 'P2B2_YEAST' 'CALB_YEAST' 'COFI_YEAST' 'CARA_YEAST'\n",
      " 'CARB_YEAST' 'CYPH_YEAST' 'CRM1_YEAST' 'R141_YEAST' 'R142_YEAST'\n",
      " 'CSE1_YEAST' 'CSE2_YEAST' 'YKE9_YEAST' 'CB33_YEAST' 'CTK1_YEAST'\n",
      " 'CATT_YEAST' 'MTC_YEAST' 'RL2A_YEAST' 'CYAA_YEAST' 'CYS3_YEAST'\n",
      " 'DA80_YEAST' 'DA81_YEAST' 'DA82_YEAST' 'DATI_YEAST' 'DBF4_YEAST'\n",
      " 'DBP1_YEAST' 'DBP2_YEAST' 'DBR1_YEAST' 'DED1_YEAST' 'DEP1_YEAST'\n",
      " 'DYR_YEAST' 'DYHC_YEAST' 'DHH1_YEAST' 'DMC1_YEAST' 'DPB2_YEAST'\n",
      " 'DPB3_YEAST' 'SYDC_YEAST' 'DRS1_YEAST' 'DSS4_YEAST' 'TFS2_YEAST'\n",
      " 'DUN1_YEAST' 'EF1B_YEAST' 'EF2_YEAST' 'EGD1_YEAST' 'END3_YEAST'\n",
      " 'ENO1_YEAST' 'ENO2_YEAST' 'THIL_YEAST' 'KIME_YEAST' 'FPPS_YEAST'\n",
      " 'ERG6_YEAST' 'ERG8_YEAST' 'ESP1_YEAST' 'EST1_YEAST' 'LCF2_YEAST'\n",
      " 'FAD1_YEAST' 'FAS1_YEAST' 'FAS2_YEAST' 'COAC_YEAST' 'ALF_YEAST'\n",
      " 'F16P_YEAST' 'F26_YEAST' 'FHL1_YEAST' 'FKBP_YEAST' 'FKB3_YEAST'\n",
      " 'SYFA_YEAST' 'SYFB_YEAST' 'FUMH_YEAST' 'FUR1_YEAST' 'FUS3_YEAST'\n",
      " 'FZF1_YEAST' 'GAC1_YEAST' 'GAL1_YEAST' 'GALX_YEAST' 'GALY_YEAST'\n",
      " 'GAL4_YEAST' 'GAL7_YEAST' 'GAL8_YEAST' 'GAR1_YEAST' 'GBP2_YEAST'\n",
      " 'E2BG_YEAST' 'IF2G_YEAST' 'E2BD_YEAST' 'E2BE_YEAST' 'E2BB_YEAST'\n",
      " 'GCN1_YEAST' 'GCN2_YEAST' 'E2BA_YEAST' 'GCN4_YEAST' 'GCN5_YEAST'\n",
      " 'GCR1_YEAST' 'GCR2_YEAST' 'GCR3_YEAST' 'GCS1_YEAST' 'GCY_YEAST'\n",
      " 'DHE4_YEAST' 'DHE2_YEAST' 'GDI1_YEAST' 'GFA1_YEAST' 'GLGB_YEAST'\n",
      " 'PP12_YEAST' 'HXKG_YEAST' 'GLNA_YEAST' 'GLN3_YEAST' 'SYQ_YEAST'\n",
      " 'GLO3_YEAST' '6PGD_YEAST' 'GBA1_YEAST' 'GPDA_YEAST' 'PHSG_YEAST'\n",
      " 'PMGY_YEAST' 'PHO2_YEAST' 'SYG_YEAST' 'GSP1_YEAST' 'GSP2_YEAST'\n",
      " 'UGS1_YEAST' 'UGS2_YEAST' 'GTS1_YEAST' 'HAL1_YEAST' 'CYP1_YEAST'\n",
      " 'HAP2_YEAST' 'HAP3_YEAST' 'HAP4_YEAST' 'HBS1_YEAST' 'HCM1_YEAST'\n",
      " 'HDF1_YEAST' 'DCUP_YEAST' 'HEM6_YEAST' 'HEM2_YEAST' 'HEM3_YEAST'\n",
      " 'HEX2_YEAST' 'H4_YEAST' 'H3_YEAST' 'HIR1_YEAST' 'HIR2_YEAST' 'HIS7_YEAST'\n",
      " 'MAT1_YEAST' 'MAT2_YEAST' 'MTA1_YEAST' 'HO_YEAST' 'HOP1_YEAST'\n",
      " 'HPR1_YEAST' 'HR25_YEAST' 'HS83_YEAST' 'HSF_YEAST' 'H104_YEAST'\n",
      " 'HS26_YEAST' 'HS82_YEAST' 'H2A1_YEAST' 'H2A2_YEAST' 'H2B1_YEAST'\n",
      " 'H2B2_YEAST' 'HXKA_YEAST' 'HXKB_YEAST' 'IPPI_YEAST' 'SYI_YEAST'\n",
      " 'IME1_YEAST' 'INO1_YEAST' 'INO2_YEAST' 'INO4_YEAST' 'IPYR_YEAST'\n",
      " 'IXR1_YEAST' 'YJ16_YEAST' 'JNM1_YEAST' 'KAR1_YEAST' 'KAR3_YEAST'\n",
      " 'KEM1_YEAST' 'KI28_YEAST' 'KIP1_YEAST' 'KIP2_YEAST' 'SMI1_YEAST'\n",
      " 'KR11_YEAST' 'SYKC_YEAST' 'KSS1_YEAST' 'BLH1_YEAST' 'LAS1_YEAST'\n",
      " 'LEU2_YEAST' 'LEU3_YEAST' 'LEUR_YEAST' 'LOS1_YEAST' 'LYS1_YEAST'\n",
      " 'LY14_YEAST' 'LYS2_YEAST' 'MAC1_YEAST' 'MAD1_YEAST' 'MAG_YEAST'\n",
      " 'MK16_YEAST' 'MAK3_YEAST' 'MA3S_YEAST' 'MA3R_YEAST' 'MA6R_YEAST'\n",
      " 'AMPM_YEAST' 'MBP1_YEAST' 'MCM1_YEAST' 'MCM2_YEAST' 'MCM3_YEAST'\n",
      " 'MDHC_YEAST' 'MDM1_YEAST' 'MDS1_YEAST' 'MEIX_YEAST' 'MER1_YEAST'\n",
      " 'MER2_YEAST' 'SYMC_YEAST' 'MET2_YEAST' 'MT17_YEAST' 'MT28_YEAST'\n",
      " 'MET4_YEAST' 'METE_YEAST' 'MGMT_YEAST' 'MIF2_YEAST' 'MIG1_YEAST'\n",
      " 'MLH1_YEAST' 'MLP1_YEAST' 'MOT1_YEAST' 'MR11_YEAST' 'MSH2_YEAST'\n",
      " 'MSH3_YEAST' 'MSH4_YEAST' 'MSN1_YEAST' 'MSN2_YEAST' 'MSN4_YEAST'\n",
      " 'MTD1_YEAST' 'RU1A_YEAST' 'YKH4_YEAST' 'MYS1_YEAST' 'MYS2_YEAST'\n",
      " 'MYS4_YEAST' 'YN46_YEAST' 'NAB1_YEAST' 'NAB2_YEAST' 'NAB3_YEAST'\n",
      " 'NAM7_YEAST' 'NAP1_YEAST' 'NAT1_YEAST' 'NAT2_YEAST' 'NDC1_YEAST'\n",
      " 'CB31_YEAST' 'NFS1_YEAST' 'ADA3_YEAST' 'NHP2_YEAST' 'NHPA_YEAST'\n",
      " 'NHPB_YEAST' 'NI96_YEAST' 'NIN1_YEAST' 'NIP1_YEAST' 'NMD2_YEAST'\n",
      " 'NMT_YEAST' 'FBRL_YEAST' 'NOP2_YEAST' 'NOP4_YEAST' 'NOT3_YEAST'\n",
      " 'NOP3_YEAST' 'NSP1_YEAST' 'NSR1_YEAST' 'TREA_YEAST' 'RNC1_YEAST'\n",
      " 'NUF1_YEAST' 'NUF2_YEAST' 'NUP1_YEAST' 'N100_YEAST' 'N116_YEAST'\n",
      " 'YK62_YEAST' 'NUP2_YEAST' 'NU49_YEAST' 'OPI1_YEAST' 'ORC2_YEAST'\n",
      " 'YHR8_YEAST' 'PABP_YEAST' 'PAN1_YEAST' 'PAP_YEAST' 'PAS1_YEAST'\n",
      " 'IPB2_YEAST' 'DCP1_YEAST' 'PDC2_YEAST' 'DCP2_YEAST' 'DCP3_YEAST'\n",
      " 'CNA1_YEAST' 'CNA2_YEAST' 'PDR1_YEAST' 'PDR3_YEAST' 'PDS1_YEAST'\n",
      " 'PES4_YEAST' 'K6P1_YEAST' 'K6P2_YEAST' '6P2K_YEAST' 'PROF_YEAST'\n",
      " 'PGD1_YEAST' 'G6PI_YEAST' 'PGK_YEAST' 'PGM1_YEAST' 'PGM2_YEAST'\n",
      " 'PHD1_YEAST' 'PNPP_YEAST' 'PHO4_YEAST' 'PH80_YEAST' 'PH85_YEAST'\n",
      " 'PHR_YEAST' 'PIK1_YEAST' 'MANA_YEAST' 'PMS1_YEAST' 'POB1_YEAST'\n",
      " 'DPOA_YEAST' 'DPO2_YEAST' 'DPOE_YEAST' 'DPOD_YEAST' 'PCNA_YEAST'\n",
      " 'DPO4_YEAST' 'P152_YEAST' 'POP2_YEAST' 'PPCK_YEAST' 'PPR1_YEAST'\n",
      " 'PPX1_YEAST' 'PRCG_YEAST' 'PRCE_YEAST' 'PRCD_YEAST' 'PRCH_YEAST'\n",
      " 'PRC2_YEAST' 'PRC6_YEAST' 'PRI1_YEAST' 'PRI2_YEAST' 'PROB_YEAST'\n",
      " 'PROC_YEAST' 'PR16_YEAST' 'PR18_YEAST' 'PR19_YEAST' 'PR02_YEAST'\n",
      " 'PR21_YEAST' 'PR22_YEAST' 'PR28_YEAST' 'PR38_YEAST' 'PR39_YEAST'\n",
      " 'PR04_YEAST' 'PR05_YEAST' 'PR06_YEAST' 'PR08_YEAST' 'PR09_YEAST'\n",
      " 'PRC8_YEAST' 'PRC5_YEAST' 'PRC3_YEAST' 'PRC9_YEAST' 'PRT1_YEAST'\n",
      " 'SNM1_YEAST' 'PTP1_YEAST' 'PTP2_YEAST' 'PUB1_YEAST' 'PRCF_YEAST'\n",
      " 'PRCZ_YEAST' 'PUT3_YEAST' 'PYC1_YEAST' 'PYC2_YEAST' 'KPYK_YEAST'\n",
      " 'RAD1_YEAST' 'RA10_YEAST' 'RA14_YEAST' 'RA16_YEAST' 'RA18_YEAST'\n",
      " 'RAD2_YEAST' 'RA23_YEAST' 'RA26_YEAST' 'RAD3_YEAST' 'RAD4_YEAST'\n",
      " 'RAD5_YEAST' 'RA50_YEAST' 'RA51_YEAST' 'RA52_YEAST' 'RA54_YEAST'\n",
      " 'RA55_YEAST' 'RA57_YEAST' 'UBC2_YEAST' 'RAD7_YEAST' 'RAD9_YEAST'\n",
      " 'SRS2_YEAST' 'RAM1_YEAST' 'RAM2_YEAST' 'RAP1_YEAST' 'RAS1_YEAST'\n",
      " 'RAS2_YEAST' 'RAT1_YEAST' 'REB1_YEAST' 'R102_YEAST' 'R104_YEAST'\n",
      " 'R114_YEAST' 'RED1_YEAST' 'DPOX_YEAST' 'RFA1_YEAST' 'RFA2_YEAST'\n",
      " 'RFA3_YEAST' 'RFC2_YEAST' 'RFC3_YEAST' 'RFC4_YEAST' 'RFT1_YEAST'\n",
      " 'RGM1_YEAST' 'RHO1_YEAST' 'RHO2_YEAST' 'RIF1_YEAST' 'RME1_YEAST'\n",
      " 'RNA1_YEAST' 'RN12_YEAST' 'RN14_YEAST' 'RN15_YEAST' 'ROX1_YEAST'\n",
      " 'ROX3_YEAST' 'RS3A_YEAST' 'RS3B_YEAST' 'R13A_YEAST' 'RL18_YEAST'\n",
      " 'RS24_YEAST' 'R17A_YEAST' 'R17B_YEAST' 'R61A_YEAST' 'RPA9_YEAST'\n",
      " 'RPA2_YEAST' 'RPA1_YEAST' 'RPA3_YEAST' 'RPBX_YEAST' 'RPBY_YEAST'\n",
      " 'RPB2_YEAST' 'RPB3_YEAST' 'RPB4_YEAST' 'RPB5_YEAST' 'RPB6_YEAST'\n",
      " 'RPB7_YEAST' 'RPB8_YEAST' 'RPB9_YEAST' 'RPCX_YEAST' 'RPC2_YEAST'\n",
      " 'RPC9_YEAST' 'RPC8_YEAST' 'RPC6_YEAST' 'RPC5_YEAST' 'RPC4_YEAST'\n",
      " 'RPC3_YEAST' 'RPD3_YEAST' 'RL1_YEAST' 'RL15_YEAST' 'R14A_YEAST'\n",
      " 'R14B_YEAST' 'RL12_YEAST' 'RL16_YEAST' 'RL1A_YEAST' 'R16A_YEAST'\n",
      " 'R16B_YEAST' 'RL17_YEAST' 'RL19_YEAST' 'RL25_YEAST' 'RL27_YEAST'\n",
      " 'RL2_YEAST' 'RL3A_YEAST' 'RL3B_YEAST' 'RL3E_YEAST' 'RL34_YEAST'\n",
      " 'R37A_YEAST' 'R37B_YEAST' 'RL44_YEAST' 'RL46_YEAST' 'RL41_YEAST'\n",
      " 'RL4A_YEAST' 'RL4B_YEAST' 'RL6_YEAST' 'RL71_YEAST' 'RL9_YEAST'\n",
      " 'RLA0_YEAST' 'RLA1_YEAST' 'RLA2_YEAST' 'RLA3_YEAST' 'RLA4_YEAST'\n",
      " 'RPB1_YEAST' 'RPC1_YEAST' 'RS6_YEAST' 'R19A_YEAST' 'R19B_YEAST'\n",
      " 'RS41_YEAST' 'RS15_YEAST' 'RS22_YEAST' 'RS21_YEAST' 'R26A_YEAST'\n",
      " 'R26B_YEAST' 'R271_YEAST' 'R272_YEAST' 'RS28_YEAST' 'RS3_YEAST'\n",
      " 'RS31_YEAST' 'RS33_YEAST' 'RS37_YEAST' 'RS4E_YEAST' 'RS8_YEAST'\n",
      " 'RRN6_YEAST' 'RRN7_YEAST' 'RTG1_YEAST' 'R161_YEAST' 'R167_YEAST'\n",
      " 'FIMB_YEAST' 'SAC7_YEAST' 'SAR1_YEAST' 'SC25_YEAST' 'PRCI_YEAST'\n",
      " 'S160_YEAST' 'SDHL_YEAST' 'SEC1_YEAST' 'SC13_YEAST' 'SC14_YEAST'\n",
      " 'SC15_YEAST' 'SC17_YEAST' 'SC18_YEAST' 'SEC2_YEAST' 'SC21_YEAST'\n",
      " 'SC23_YEAST' 'SEC4_YEAST' 'PMM_YEAST' 'SEC6_YEAST' 'SC65_YEAST'\n",
      " 'SC72_YEAST' 'SEC8_YEAST' 'SEC9_YEAST' 'SEN1_YEAST' 'SEN2_YEAST'\n",
      " 'SYSC_YEAST' 'SFL1_YEAST' 'SFP1_YEAST' 'GLYC_YEAST' 'SIC1_YEAST'\n",
      " 'NOT4_YEAST' 'SIN3_YEAST' 'SIN4_YEAST' 'SIP2_YEAST' 'SIR1_YEAST'\n",
      " 'SIR2_YEAST' 'SIR3_YEAST' 'SIR4_YEAST' 'SIS1_YEAST' 'SIS2_YEAST'\n",
      " 'SKI3_YEAST' 'SKN7_YEAST' 'SKO1_YEAST' 'SLA1_YEAST' 'SLU7_YEAST'\n",
      " 'SLY1_YEAST' 'SMC1_YEAST' 'SMC2_YEAST' 'SMD1_YEAST' 'SMY1_YEAST'\n",
      " 'SMY2_YEAST' 'SNF1_YEAST' 'SNF2_YEAST' 'SNF4_YEAST' 'SNF5_YEAST'\n",
      " 'SNF6_YEAST' 'RU17_YEAST' 'SNP2_YEAST' 'YBC6_YEAST' 'SODC_YEAST'\n",
      " 'SOF1_YEAST' 'SOK1_YEAST' 'SON1_YEAST' 'RL35_YEAST' 'SPA2_YEAST'\n",
      " 'SPB4_YEAST' 'SPK1_YEAST' 'SP11_YEAST' 'SX18_YEAST' 'SP10_YEAST'\n",
      " 'SP14_YEAST' 'TF2D_YEAST' 'SPT2_YEAST' 'SP21_YEAST' 'SP23_YEAST'\n",
      " 'SPT3_YEAST' 'SPT4_YEAST' 'SPT5_YEAST' 'SPT6_YEAST' 'SPT7_YEAST'\n",
      " 'SPT8_YEAST' 'SRB2_YEAST' 'SRB4_YEAST' 'SRB5_YEAST' 'SRB6_YEAST'\n",
      " 'SCA1_YEAST' 'SRD1_YEAST' 'RCC_YEAST' 'SRPI_YEAST' 'SR14_YEAST'\n",
      " 'SR54_YEAST' 'SR68_YEAST' 'SR72_YEAST' 'CAP_YEAST' 'HS71_YEAST'\n",
      " 'HS72_YEAST' 'HS73_YEAST' 'HS74_YEAST' 'HS75_YEAST' 'HS76_YEAST'\n",
      " 'SSB1_YEAST' 'SSD1_YEAST' 'RA25_YEAST' 'SSN6_YEAST' 'ST12_YEAST'\n",
      " 'GBG_YEAST' 'ST20_YEAST' 'GBB_YEAST' 'STE5_YEAST' 'STH1_YEAST'\n",
      " 'STP1_YEAST' 'STU1_YEAST' 'TF2B_YEAST' 'SUG1_YEAST' 'SUI1_YEAST'\n",
      " 'IF2A_YEAST' 'IF2B_YEAST' 'SUP1_YEAST' 'SUP2_YEAST' 'RS4_YEAST'\n",
      " 'RS11_YEAST' 'ADR6_YEAST' 'SWI3_YEAST' 'SWI4_YEAST' 'SWI5_YEAST'\n",
      " 'SWI6_YEAST' 'TAL1_YEAST' 'TBF1_YEAST' 'RL3_YEAST' 'TCPA_YEAST'\n",
      " 'TCPE_YEAST' 'TCPB_YEAST' 'TCPG_YEAST' 'TCPD_YEAST' 'TCPZ_YEAST'\n",
      " 'G3P1_YEAST' 'G3P2_YEAST' 'G3P3_YEAST' 'TF3B_YEAST' 'TEC1_YEAST'\n",
      " 'EF1A_YEAST' 'EF1G_YEAST' 'EF1H_YEAST' 'T2EA_YEAST' 'YK42_YEAST'\n",
      " 'TFB1_YEAST' 'TFC1_YEAST' 'TF3A_YEAST' 'TFC3_YEAST' 'TFC4_YEAST'\n",
      " 'DKA1_YEAST' 'THRC_YEAST' 'SYTC_YEAST' 'IF4A_YEAST' 'IF1A_YEAST'\n",
      " 'TIF3_YEAST' 'IF41_YEAST' 'IF42_YEAST' 'IF5_YEAST' 'IF52_YEAST'\n",
      " 'IF51_YEAST' 'TP20_YEAST' 'TKT1_YEAST' 'TKT2_YEAST' 'TYSY_YEAST'\n",
      " 'TOA1_YEAST' 'TOA2_YEAST' 'TOP1_YEAST' 'TOP2_YEAST' 'TOP3_YEAST'\n",
      " 'TPIS_YEAST' 'KAPA_YEAST' 'KAPB_YEAST' 'KAPC_YEAST' 'TPM1_YEAST'\n",
      " 'TPM2_YEAST' 'TPS1_YEAST' 'TPS2_YEAST' 'TPS3_YEAST' 'TRNL_YEAST'\n",
      " 'TRPF_YEAST' 'TRPE_YEAST' 'TRPG_YEAST' 'TRPD_YEAST' 'TRP_YEAST'\n",
      " 'TSA_YEAST' 'TSL1_YEAST' 'TSM1_YEAST' 'GLRX_YEAST' 'TBA1_YEAST'\n",
      " 'TBB_YEAST' 'TBA3_YEAST' 'TUP1_YEAST' 'TYE7_YEAST' 'TYR1_YEAST'\n",
      " 'UBA1_YEAST' 'UBC1_YEAST' 'UBC4_YEAST' 'UBC5_YEAST' 'UBC7_YEAST'\n",
      " 'UBIQ_YEAST' 'UBP1_YEAST' 'UBP2_YEAST' 'UBP3_YEAST' 'UBR1_YEAST'\n",
      " 'UGA3_YEAST' 'UME5_YEAST' 'UME6_YEAST' 'UNG_YEAST' 'PYRD_YEAST'\n",
      " 'PYR1_YEAST' 'UMPK_YEAST' 'RL21_YEAST' 'RSU2_YEAST' 'YEU2_YEAST'\n",
      " 'SYV_YEAST' 'VPS1_YEAST' 'VP15_YEAST' 'VP16_YEAST' 'VP17_YEAST'\n",
      " 'YP51_YEAST' 'SLP1_YEAST' 'VP45_YEAST' 'VRP1_YEAST' 'XRS2_YEAST'\n",
      " 'YAB9_YEAST' 'YAF1_YEAST' 'PDR4_YEAST' 'AP17_YEAST' 'AP19_YEAST'\n",
      " 'YBC4_YEAST' 'YBG6_YEAST' 'RL3P_YEAST' 'YB00_YEAST' 'YB32_YEAST'\n",
      " 'YB48_YEAST' 'YCK2_YEAST' 'YCW2_YEAST' 'YCZ6_YEAST' 'MAS5_YEAST'\n",
      " 'EF3_YEAST' 'YE14_YEAST' 'YHA9_YEAST' 'RIMI_YEAST' 'YHP0_YEAST'\n",
      " 'YHX8_YEAST' 'YIF2_YEAST' 'YIG3_YEAST' 'YIN0_YEAST' 'YKJ5_YEAST'\n",
      " 'YKA5_YEAST' 'MAOX_YEAST' 'YKD8_YEAST' 'TCTP_YEAST' 'YKM9_YEAST'\n",
      " 'YKW2_YEAST' 'YKY8_YEAST' 'YK44_YEAST' 'RL13_YEAST' 'YOX1_YEAST'\n",
      " 'YPT1_YEAST' 'YP52_YEAST' 'YP53_YEAST' 'YPT7_YEAST' 'R29A_YEAST'\n",
      " 'R29B_YEAST' 'ZIP1_YEAST' 'ZUO1_YEAST' 'G6PD_YEAST']\n",
      "****************\n",
      "\n",
      "Column : MCG\n",
      "Unique Record : 65\n",
      "[0.58 0.51 0.48 0.4  0.43 0.42 0.46 0.47 0.5  0.61 0.45 0.73 0.59 0.57\n",
      " 0.53 0.38 0.33 0.56 0.64 0.66 0.37 0.41 0.54 0.6  0.34 0.36 0.49 0.3\n",
      " 0.65 0.27 0.44 0.62 0.35 0.29 0.39 0.28 0.26 0.67 0.31 0.21 0.24 0.32\n",
      " 0.52 0.2  0.23 0.55 0.8  0.63 0.25 0.71 0.69 0.17 0.74 0.18 0.7  0.11\n",
      " 0.87 0.9  0.88 0.77 0.68 0.72 0.78 0.19 0.79]\n",
      "****************\n",
      "\n",
      "Column : GVH\n",
      "Unique Record : 60\n",
      "[0.44 0.4  0.45 0.39 0.37 0.42 0.47 0.34 0.6  0.63 0.53 0.54 0.61 0.55\n",
      " 0.31 0.46 0.48 0.59 0.56 0.62 0.49 0.32 0.43 0.51 0.52 0.57 0.23 0.35\n",
      " 0.65 0.38 0.64 0.5  0.58 0.36 0.68 0.71 0.41 0.66 0.27 0.26 0.28 0.2\n",
      " 0.24 0.3  0.33 0.22 0.25 0.83 0.21 0.76 0.16 0.67 0.82 0.75 0.29 0.13\n",
      " 0.17 0.79 0.69 0.7 ]\n",
      "****************\n",
      "\n",
      "Column : ALM\n",
      "Unique Record : 40\n",
      "[0.57 0.56 0.59 0.6  0.54 0.52 0.5  0.55 0.48 0.42 0.53 0.43 0.61 0.51\n",
      " 0.58 0.49 0.47 0.44 0.45 0.62 0.64 0.41 0.4  0.46 0.71 0.69 0.66 0.75\n",
      " 0.63 0.65 0.39 0.37 0.68 0.67 0.34 0.32 0.79 1.   0.36 0.38]\n",
      "****************\n",
      "\n",
      "Column : MIT\n",
      "Unique Record : 60\n",
      "[0.13 0.17 0.2  0.15 0.21 0.35 0.11 0.16 0.22 0.3  0.19 0.18 0.1  0.12\n",
      " 0.43 0.39 0.27 0.23 0.33 0.32 0.08 0.09 0.24 0.41 0.46 0.25 0.4  0.47\n",
      " 0.05 0.31 0.42 0.14 0.34 0.65 0.67 0.53 0.28 0.52 0.36 0.26 0.79 0.29\n",
      " 0.38 0.37 1.   0.55 0.57 0.6  0.48 0.   0.49 0.56 0.06 0.44 0.45 0.8\n",
      " 0.7  0.07 0.63 0.86]\n",
      "****************\n",
      "\n",
      "Column : ERL\n",
      "Unique Record : 2\n",
      "[0.5 1. ]\n",
      "****************\n",
      "\n",
      "Column : POX\n",
      "Unique Record : 2\n",
      "[0.  0.5]\n",
      "****************\n",
      "\n",
      "Column : VAC\n",
      "Unique Record : 46\n",
      "[0.54 0.49 0.58 0.53 0.52 0.5  0.51 0.55 0.59 0.57 0.56 0.47 0.46 0.45\n",
      " 0.37 0.41 0.48 0.6  0.63 0.43 0.4  0.42 0.36 0.44 0.24 0.31 0.14 0.61\n",
      " 0.   0.34 0.62 0.38 0.28 0.39 0.33 0.68 0.3  0.32 0.22 0.13 0.69 0.73\n",
      " 0.72 0.35 0.19 0.2 ]\n",
      "****************\n",
      "\n",
      "Column : NUC\n",
      "Unique Record : 66\n",
      "[0.22 0.34 0.3  0.27 0.29 0.25 0.4  0.26 0.32 0.47 0.37 0.28 0.38 0.43\n",
      " 0.35 0.33 0.52 0.55 1.   0.31 0.72 0.44 0.36 0.46 0.21 0.18 0.63 0.48\n",
      " 0.49 0.67 0.42 0.54 0.51 0.5  0.45 0.16 0.75 0.56 0.41 0.19 0.57 0.64\n",
      " 0.65 0.53 0.39 0.61 0.86 0.6  0.71 0.11 0.14 0.23 0.   0.01 0.68 0.99\n",
      " 0.66 0.8  0.59 0.69 0.62 0.73 0.79 0.58 0.7  0.74]\n",
      "****************\n",
      "\n",
      "Column : YeastType\n",
      "Unique Record : 2\n",
      "['NUC' 'CYT']\n",
      "****************\n",
      "\n"
     ]
    }
   ],
   "source": [
    "# Number of unique records and unique values \n",
    "for col in df.columns:\n",
    "    print(f'Column : {col}\\nUnique Record : {df[col].nunique()}')\n",
    "    print(df[col].unique())\n",
    "    print('****************\\n')"
   ]
  },
  {
   "cell_type": "code",
   "execution_count": 28,
   "id": "2b33bcac-95f7-4b67-a05f-cb15d1725126",
   "metadata": {},
   "outputs": [
    {
     "data": {
      "text/plain": [
       "YeastType\n",
       "CYT    444\n",
       "NUC    426\n",
       "Name: count, dtype: int64"
      ]
     },
     "execution_count": 28,
     "metadata": {},
     "output_type": "execute_result"
    }
   ],
   "source": [
    "# value count of Yeast Type column\n",
    "df['YeastType'].value_counts()"
   ]
  },
  {
   "cell_type": "code",
   "execution_count": 31,
   "id": "4219523d-7968-4dd5-acb3-a17e19a007a5",
   "metadata": {},
   "outputs": [
    {
     "data": {
      "image/png": "[encoded data removed]",
      "text/plain": [
       "<Figure size 640x480 with 1 Axes>"
      ]
     },
     "metadata": {},
     "output_type": "display_data"
    }
   ],
   "source": [
    "# plotting the pie chart for Yeast Type\n",
    "value_count = df['YeastType'].value_counts()\n",
    "\n",
    "plt.pie(x=value_count.values , autopct='%0.2f%%', labels = value_count.keys())\n",
    "\n",
    "plt.title('Percentage Distribution of Yeast Types')\n",
    "plt.show()"
   ]
  },
  {
   "cell_type": "markdown",
   "id": "c04ca474-1bda-4c63-b734-1b388768eef1",
   "metadata": {},
   "source": [
    "**The dataset contains two yeast types: NUC, which represents 48.97% of the data, and CYT, which makes up 51.03%.**"
   ]
  },
  {
   "cell_type": "code",
   "execution_count": 33,
   "id": "34d8a46d-6a22-4ae1-b64a-543e99872a8f",
   "metadata": {},
   "outputs": [
    {
     "data": {
      "image/png": "[encoded data removed]",
      "text/plain": [
       "<Figure size 1200x400 with 1 Axes>"
      ]
     },
     "metadata": {},
     "output_type": "display_data"
    }
   ],
   "source": [
    "# ALM score distribution plot\n",
    "plt.figure(figsize=(12,4))\n",
    "sns.histplot(df['ALM'])\n",
    "\n",
    "plt.title('ALM Distribution')\n",
    "plt.xlabel('Score')\n",
    "plt.show()"
   ]
  },
  {
   "cell_type": "markdown",
   "id": "f2959517-9582-498f-9249-aaae48896ef6",
   "metadata": {},
   "source": [
    "**ALM seems to follow a normal distribution, but there are some outliers present**"
   ]
  },
  {
   "cell_type": "code",
   "execution_count": 55,
   "id": "21c980f7-f980-434c-be99-99c5801167d7",
   "metadata": {},
   "outputs": [
    {
     "data": {
      "image/png": "[encoded data removed]",
      "text/plain": [
       "<Figure size 1200x400 with 1 Axes>"
      ]
     },
     "metadata": {},
     "output_type": "display_data"
    }
   ],
   "source": [
    "# ERL distribution plot\n",
    "plt.figure(figsize=(12,4))\n",
    "value_count = df['ERL'].value_counts(normalize=True)\n",
    "ax = sns.barplot(x=value_count.keys() , y=value_count.values,width=0.3)\n",
    "\n",
    "for p in ax.patches:\n",
    "    plt.text(\n",
    "        p.get_x()+p.get_width()/2,\n",
    "        p.get_height(),\n",
    "        f'{p.get_height():.2f}',\n",
    "        ha='center',\n",
    "        va='bottom'\n",
    "    )\n",
    "\n",
    "plt.title('ERL Distribution')\n",
    "plt.show()"
   ]
  },
  {
   "cell_type": "markdown",
   "id": "95a42924-024e-474a-b528-20edf04f7b31",
   "metadata": {},
   "source": [
    "**ERL contain 99% of the value 0.5 while 1% of the value 1**"
   ]
  },
  {
   "cell_type": "code",
   "execution_count": 35,
   "id": "dafd3e65-06ff-4ab3-91d1-d1aaad56e936",
   "metadata": {},
   "outputs": [
    {
     "data": {
      "image/png": "[encoded data removed]",
      "text/plain": [
       "<Figure size 1200x400 with 1 Axes>"
      ]
     },
     "metadata": {},
     "output_type": "display_data"
    }
   ],
   "source": [
    "# GVH distribution plot \n",
    "plt.figure(figsize=(12,4))\n",
    "sns.histplot(df['GVH'])\n",
    "\n",
    "plt.title('GVH Distribution')\n",
    "plt.show()"
   ]
  },
  {
   "cell_type": "markdown",
   "id": "592ba3ae-1b06-49a5-85e3-daded68db38d",
   "metadata": {},
   "source": [
    "**GVH chart seems to be normally distributed**"
   ]
  },
  {
   "cell_type": "code",
   "execution_count": 38,
   "id": "b855326d-cf90-4e8d-ac4a-05ab54a5d3fa",
   "metadata": {},
   "outputs": [
    {
     "data": {
      "image/png": "[encoded data removed]",
      "text/plain": [
       "<Figure size 1200x400 with 1 Axes>"
      ]
     },
     "metadata": {},
     "output_type": "display_data"
    }
   ],
   "source": [
    "# MCG Distribution plot\n",
    "plt.figure(figsize=(12,4))\n",
    "sns.histplot(df['MCG'])\n",
    "\n",
    "plt.title('MCG Distribution')\n",
    "plt.show()"
   ]
  },
  {
   "cell_type": "markdown",
   "id": "d9843b93-73da-4133-b1bd-7168da8c0894",
   "metadata": {},
   "source": [
    "**MCG seems to be normally distributed**"
   ]
  },
  {
   "cell_type": "code",
   "execution_count": 180,
   "id": "ba1d262c-741f-44c0-abab-f91e156e860b",
   "metadata": {},
   "outputs": [
    {
     "data": {
      "image/png": "[encoded data removed]",
      "text/plain": [
       "<Figure size 1200x400 with 1 Axes>"
      ]
     },
     "metadata": {},
     "output_type": "display_data"
    }
   ],
   "source": [
    "plt.figure(figsize=(12,4))\n",
    "sns.histplot(df['MIT'])\n",
    "\n",
    "plt.title('MIT Distribution')\n",
    "plt.show()"
   ]
  },
  {
   "cell_type": "markdown",
   "id": "e7029442-c813-4e10-b494-4c8b7e8d4cc7",
   "metadata": {},
   "source": [
    "**Majority of data falls in the range of 0.1 to 0.3, but seems there are some outliers in data**"
   ]
  },
  {
   "cell_type": "code",
   "execution_count": 42,
   "id": "a56e35ef-0a6c-4a95-a59c-97dfac870e0b",
   "metadata": {},
   "outputs": [
    {
     "data": {
      "image/png": "[encoded data removed]",
      "text/plain": [
       "<Figure size 1200x400 with 1 Axes>"
      ]
     },
     "metadata": {},
     "output_type": "display_data"
    }
   ],
   "source": [
    "# NUG Distribution plot\n",
    "plt.figure(figsize=(12,4))\n",
    "sns.histplot(df['NUC'])\n",
    "\n",
    "plt.title('NUC Distribution')\n",
    "plt.show()"
   ]
  },
  {
   "cell_type": "markdown",
   "id": "d5846757-06d0-4479-ab86-816cd17426ac",
   "metadata": {},
   "source": [
    "**Majority of data falls in the range of 0.2 to 0.4, but seems there are some outliers in data**"
   ]
  },
  {
   "cell_type": "code",
   "execution_count": 60,
   "id": "23b50d3d-28a3-42d2-aa23-e3f39dd2feb7",
   "metadata": {},
   "outputs": [
    {
     "name": "stdout",
     "output_type": "stream",
     "text": [
      "POX\n",
      "0.0    869\n",
      "0.5      1\n",
      "Name: count, dtype: int64\n"
     ]
    },
    {
     "data": {
      "image/png": "[encoded data removed]",
      "text/plain": [
       "<Figure size 1200x400 with 1 Axes>"
      ]
     },
     "metadata": {},
     "output_type": "display_data"
    }
   ],
   "source": [
    "# POX distribution plot\n",
    "plt.figure(figsize=(12,4))\n",
    "print( df['POX'].value_counts())\n",
    "value_count = df['POX'].value_counts(normalize=True)\n",
    "ax = sns.barplot(x=value_count.keys() , y=value_count.values,width=0.3)\n",
    "\n",
    "for p in ax.patches:\n",
    "    plt.text(\n",
    "        p.get_x()+p.get_width()/2,\n",
    "        p.get_height(),\n",
    "        f'{p.get_height():.2f}',\n",
    "        ha='center',\n",
    "        va='bottom'\n",
    "    )\n",
    "\n",
    "plt.title('POX Distribution')\n",
    "plt.show()"
   ]
  },
  {
   "cell_type": "markdown",
   "id": "b434efed-badf-4c44-8e53-93fadc4a0116",
   "metadata": {},
   "source": [
    "**The majority of the POX values are 0.0, accounting for 869 occurrences, while the value 0.5 is extremely rare, with only 1 occurrence. This indicates a highly imbalanced distribution in the POX variable.**"
   ]
  },
  {
   "cell_type": "code",
   "execution_count": 63,
   "id": "74c8ba8a-7328-4167-9cae-e363b504a01c",
   "metadata": {},
   "outputs": [
    {
     "data": {
      "image/png": "[encoded data removed]",
      "text/plain": [
       "<Figure size 1200x400 with 1 Axes>"
      ]
     },
     "metadata": {},
     "output_type": "display_data"
    }
   ],
   "source": [
    "# VAC Distribution plot\n",
    "plt.figure(figsize=(12,4))\n",
    "sns.histplot(df['VAC'])\n",
    "\n",
    "plt.title('VAC Distribution')\n",
    "plt.show()"
   ]
  },
  {
   "cell_type": "markdown",
   "id": "75543b73-3444-4b7d-9977-ca20f40c02d1",
   "metadata": {},
   "source": [
    "**Majority of data falls in the range of 0.4 to 0.6, but seems there are some outliers in data**"
   ]
  },
  {
   "cell_type": "markdown",
   "id": "dfb1fbfe-d3c1-4db1-bd14-c49ffc739bb5",
   "metadata": {},
   "source": [
    "<div class='alert alert-info alert-block' align='center'><h3><b>Outliers Handling (Winsorization method)</b></h3></div>"
   ]
  },
  {
   "cell_type": "code",
   "execution_count": 70,
   "id": "58090bd2-a3dd-4c7d-a7a2-0684e54b455a",
   "metadata": {},
   "outputs": [
    {
     "name": "stdout",
     "output_type": "stream",
     "text": [
      "(870, 10)\n"
     ]
    }
   ],
   "source": [
    "# Define Winsorization limits (5th and 95th percentiles)\n",
    "lower_limit = 0.05\n",
    "upper_limit = 0.95\n",
    "\n",
    "# Apply Winsorization\n",
    "for col in df.select_dtypes(include=['float', 'int']).columns:\n",
    "    lower_bound = df[col].quantile(lower_limit)\n",
    "    upper_bound = df[col].quantile(upper_limit)\n",
    "\n",
    "    # Cap values outside the bounds\n",
    "    df[col] = df[col].clip(lower=lower_bound, upper=upper_bound)\n",
    "\n",
    "print(df.shape)"
   ]
  },
  {
   "cell_type": "markdown",
   "id": "a875e353-f56a-479e-9008-981639ba5138",
   "metadata": {},
   "source": [
    "<div class='alert alert-info alert-block' align='center'><h3><b>Scaling and Encoding</b></h3></div>"
   ]
  },
  {
   "cell_type": "code",
   "execution_count": 74,
   "id": "29fa7c58-9205-4910-a98f-1cf7a29235fb",
   "metadata": {},
   "outputs": [],
   "source": [
    "# getting numerical and categorical columns\n",
    "def sepration_column(dataset):\n",
    "    numerical = []\n",
    "    categorical = []\n",
    "    # running loop to append numerical and categorical columns name\n",
    "    for col in dataset.columns:\n",
    "        if dataset[col].dtype in ['int','float']:\n",
    "            numerical.append(col)\n",
    "        else:\n",
    "            categorical.append(col)\n",
    "    return numerical , categorical\n",
    "numerical , categorical = sepration_column(df)\n",
    "\n",
    "# getting binary columns name\n",
    "def binary_columns(dataset):\n",
    "    binary_col = []\n",
    "    for col in dataset.columns:\n",
    "        unique_values = dataset[col].unique()\n",
    "        if set(unique_values).issubset({0, 1}):\n",
    "            binary_col.append(col)\n",
    "    return binary_col\n",
    "binary_col = binary_columns(df)\n",
    "\n",
    "# removing binary columns from numerical column\n",
    "numerical = [ i for i in numerical if i not in binary_col]\n",
    "\n",
    "# applying encoding to categorical columns\n",
    "def encoding(dataset):\n",
    "    encoder= LabelEncoder()\n",
    "    for col in categorical:\n",
    "        dataset[col] = encoder.fit_transform(dataset[col])\n",
    "    return dataset\n",
    "df = encoding(df)\n",
    "\n",
    "# applying scaling to numerical columns\n",
    "def scaling(dataset):\n",
    "    scaler = StandardScaler()\n",
    "    df[numerical] = scaler.fit_transform(df[numerical])\n",
    "    return dataset\n",
    "\n",
    "df = scaling(df)"
   ]
  },
  {
   "cell_type": "code",
   "execution_count": 76,
   "id": "7ac0f010-5ff7-4513-bec1-bd9abd8f0b89",
   "metadata": {},
   "outputs": [
    {
     "data": {
      "text/html": [
       "<div>\n",
       "<style scoped>\n",
       "    .dataframe tbody tr th:only-of-type {\n",
       "        vertical-align: middle;\n",
       "    }\n",
       "\n",
       "    .dataframe tbody tr th {\n",
       "        vertical-align: top;\n",
       "    }\n",
       "\n",
       "    .dataframe thead th {\n",
       "        text-align: right;\n",
       "    }\n",
       "</style>\n",
       "<table border=\"1\" class=\"dataframe\">\n",
       "  <thead>\n",
       "    <tr style=\"text-align: right;\">\n",
       "      <th></th>\n",
       "      <th>SequenceName</th>\n",
       "      <th>MCG</th>\n",
       "      <th>GVH</th>\n",
       "      <th>ALM</th>\n",
       "      <th>MIT</th>\n",
       "      <th>ERL</th>\n",
       "      <th>POX</th>\n",
       "      <th>VAC</th>\n",
       "      <th>NUC</th>\n",
       "      <th>YeastType</th>\n",
       "    </tr>\n",
       "  </thead>\n",
       "  <tbody>\n",
       "    <tr>\n",
       "      <th>0</th>\n",
       "      <td>2</td>\n",
       "      <td>1.159125</td>\n",
       "      <td>-0.267643</td>\n",
       "      <td>0.793842</td>\n",
       "      <td>-1.021073</td>\n",
       "      <td>0.0</td>\n",
       "      <td>0.0</td>\n",
       "      <td>0.903121</td>\n",
       "      <td>-0.730982</td>\n",
       "      <td>1</td>\n",
       "    </tr>\n",
       "    <tr>\n",
       "      <th>1</th>\n",
       "      <td>3</td>\n",
       "      <td>0.445367</td>\n",
       "      <td>-0.710533</td>\n",
       "      <td>0.594522</td>\n",
       "      <td>-0.572646</td>\n",
       "      <td>0.0</td>\n",
       "      <td>0.0</td>\n",
       "      <td>-0.235927</td>\n",
       "      <td>-0.730982</td>\n",
       "      <td>0</td>\n",
       "    </tr>\n",
       "    <tr>\n",
       "      <th>2</th>\n",
       "      <td>42</td>\n",
       "      <td>0.139470</td>\n",
       "      <td>-0.156921</td>\n",
       "      <td>1.192481</td>\n",
       "      <td>-0.236326</td>\n",
       "      <td>0.0</td>\n",
       "      <td>0.0</td>\n",
       "      <td>1.586550</td>\n",
       "      <td>0.478824</td>\n",
       "      <td>1</td>\n",
       "    </tr>\n",
       "    <tr>\n",
       "      <th>3</th>\n",
       "      <td>4</td>\n",
       "      <td>-0.676254</td>\n",
       "      <td>-0.821255</td>\n",
       "      <td>1.391801</td>\n",
       "      <td>-0.796860</td>\n",
       "      <td>0.0</td>\n",
       "      <td>0.0</td>\n",
       "      <td>1.586550</td>\n",
       "      <td>0.075555</td>\n",
       "      <td>0</td>\n",
       "    </tr>\n",
       "    <tr>\n",
       "      <th>4</th>\n",
       "      <td>5</td>\n",
       "      <td>-0.370357</td>\n",
       "      <td>-0.821255</td>\n",
       "      <td>0.195883</td>\n",
       "      <td>-0.124219</td>\n",
       "      <td>0.0</td>\n",
       "      <td>0.0</td>\n",
       "      <td>0.675312</td>\n",
       "      <td>-0.226897</td>\n",
       "      <td>1</td>\n",
       "    </tr>\n",
       "  </tbody>\n",
       "</table>\n",
       "</div>"
      ],
      "text/plain": [
       "   SequenceName       MCG       GVH       ALM       MIT  ERL  POX       VAC  \\\n",
       "0             2  1.159125 -0.267643  0.793842 -1.021073  0.0  0.0  0.903121   \n",
       "1             3  0.445367 -0.710533  0.594522 -0.572646  0.0  0.0 -0.235927   \n",
       "2            42  0.139470 -0.156921  1.192481 -0.236326  0.0  0.0  1.586550   \n",
       "3             4 -0.676254 -0.821255  1.391801 -0.796860  0.0  0.0  1.586550   \n",
       "4             5 -0.370357 -0.821255  0.195883 -0.124219  0.0  0.0  0.675312   \n",
       "\n",
       "        NUC  YeastType  \n",
       "0 -0.730982          1  \n",
       "1 -0.730982          0  \n",
       "2  0.478824          1  \n",
       "3  0.075555          0  \n",
       "4 -0.226897          1  "
      ]
     },
     "execution_count": 76,
     "metadata": {},
     "output_type": "execute_result"
    }
   ],
   "source": [
    "# top 5 rows of the data\n",
    "df.head()"
   ]
  },
  {
   "cell_type": "code",
   "execution_count": 78,
   "id": "aa5ded63-0f6b-4852-a7e8-5638a70357a6",
   "metadata": {},
   "outputs": [],
   "source": [
    "# dropping Sequence Name from data as it not going to help in modelling \n",
    "df = df.drop('SequenceName',axis=1)"
   ]
  },
  {
   "cell_type": "code",
   "execution_count": 80,
   "id": "dbdf5fb1-16cc-49bb-ae9e-cd697a65cb8a",
   "metadata": {},
   "outputs": [
    {
     "data": {
      "image/png": "[encoded data removed]",
      "text/plain": [
       "<Figure size 1200x500 with 2 Axes>"
      ]
     },
     "metadata": {},
     "output_type": "display_data"
    }
   ],
   "source": [
    "# plotting correlation matrix\n",
    "corr = df.corr()\n",
    "plt.figure(figsize=(12,5))\n",
    "sns.heatmap(corr,annot=True)\n",
    "plt.title('Correlation matrix')\n",
    "plt.show()"
   ]
  },
  {
   "cell_type": "markdown",
   "id": "abbdb030-4151-437d-b895-fa8d81b5f77c",
   "metadata": {},
   "source": [
    "<div class='alert alert-info alert-block' align='center'><h3>Model training and Testing</h3></div>"
   ]
  },
  {
   "cell_type": "markdown",
   "id": "1c3f8253-05ce-47eb-8f69-03f768a72fe6",
   "metadata": {},
   "source": [
    "#### Splitting the data for train and test"
   ]
  },
  {
   "cell_type": "code",
   "execution_count": 89,
   "id": "8d98b3b9-2d5d-4888-a3d9-5feb70d191e3",
   "metadata": {},
   "outputs": [],
   "source": [
    "X = df.drop('YeastType',axis=1)\n",
    "y = df['YeastType']"
   ]
  },
  {
   "cell_type": "code",
   "execution_count": 91,
   "id": "77bb7e04-87a8-48ab-b4d1-12a268d24735",
   "metadata": {},
   "outputs": [
    {
     "name": "stdout",
     "output_type": "stream",
     "text": [
      "Shape of features train data :  (696, 8)\n",
      "Shape of target train data :  (696,)\n",
      "Shape of feature test data :  (174, 8)\n",
      "Shape of target test data :  (174,)\n"
     ]
    }
   ],
   "source": [
    "# splitting the data for train and test\n",
    "\n",
    "X_train , X_test , y_train , y_test = train_test_split(X , y , test_size=0.2  , random_state=34)\n",
    "\n",
    "# printing the shapes of splitted train and test data\n",
    "print('Shape of features train data : ',X_train.shape)\n",
    "print('Shape of target train data : ',y_train.shape)\n",
    "print('Shape of feature test data : ',X_test.shape)\n",
    "print('Shape of target test data : ',y_test.shape)"
   ]
  },
  {
   "cell_type": "code",
   "execution_count": 101,
   "id": "fe9fc9eb-4f79-4b78-bc17-a9ff5dc05984",
   "metadata": {},
   "outputs": [
    {
     "name": "stdout",
     "output_type": "stream",
     "text": [
      "Accuracy Score for train data:  71.12068965517241\n"
     ]
    }
   ],
   "source": [
    "svc = SVC(probability=True)\n",
    "\n",
    "# fitting the model \n",
    "model = svc.fit(X_train , y_train)\n",
    "\n",
    "# predicting for train data\n",
    "y_pred_train = model.predict(X_train)\n",
    "\n",
    "# checking the accuracy score for train data\n",
    "print('Accuracy Score for train data: ', accuracy_score(y_train , y_pred_train)*100)"
   ]
  },
  {
   "cell_type": "markdown",
   "id": "5430158e-3fb2-4ff9-be64-d88ab94a240f",
   "metadata": {},
   "source": [
    "### Testing for test data"
   ]
  },
  {
   "cell_type": "code",
   "execution_count": 103,
   "id": "9236a188-44fc-4d77-aaa7-f6a506399da8",
   "metadata": {},
   "outputs": [
    {
     "name": "stdout",
     "output_type": "stream",
     "text": [
      "Accuracy Score for test data:  71.83908045977012\n"
     ]
    }
   ],
   "source": [
    "# testing the model on test data\n",
    "\n",
    "# predicting for train data\n",
    "y_pred_test = model.predict(X_test)\n",
    "\n",
    "# checking the accuracy score for train data\n",
    "print('Accuracy Score for test data: ',accuracy_score(y_test , y_pred_test)*100)"
   ]
  },
  {
   "cell_type": "markdown",
   "id": "749f811d-edd6-4e39-a0b7-2522975092ad",
   "metadata": {},
   "source": [
    "##### accuracy score for both the training data and testing data is almost same"
   ]
  },
  {
   "cell_type": "markdown",
   "id": "e781b060-1f30-42ea-a29f-53bab4558913",
   "metadata": {},
   "source": [
    "### Confusion Matrix"
   ]
  },
  {
   "cell_type": "code",
   "execution_count": 107,
   "id": "7db92e25-66f8-4ed1-a473-410591bd26dc",
   "metadata": {},
   "outputs": [
    {
     "data": {
      "image/png": "[encoded data removed]",
      "text/plain": [
       "<Figure size 1000x500 with 2 Axes>"
      ]
     },
     "metadata": {},
     "output_type": "display_data"
    }
   ],
   "source": [
    "# displaying confusion matrix \n",
    "cm = confusion_matrix(y_test , y_pred_test)\n",
    "\n",
    "fig,ax = plt.subplots(figsize=(10,5))\n",
    "disp = ConfusionMatrixDisplay(confusion_matrix=cm)\n",
    "disp.plot(cmap='viridis', ax=ax) \n",
    "plt.title(\"Confusion Matrix\") \n",
    "plt.show()"
   ]
  },
  {
   "cell_type": "markdown",
   "id": "b21c09cc-946d-4863-be4b-d2382d7cf8e2",
   "metadata": {},
   "source": [
    "### ROC Curve"
   ]
  },
  {
   "cell_type": "code",
   "execution_count": 110,
   "id": "e5f227e1-4c04-42fb-a345-14dd272647a3",
   "metadata": {},
   "outputs": [
    {
     "data": {
      "text/plain": [
       "0.7647292466569575"
      ]
     },
     "execution_count": 110,
     "metadata": {},
     "output_type": "execute_result"
    }
   ],
   "source": [
    "roc_auc_score(y_test , model.predict_proba(X_test)[:,1])"
   ]
  },
  {
   "cell_type": "code",
   "execution_count": 112,
   "id": "90d9ed25-959a-4c87-ab27-0467423f9244",
   "metadata": {},
   "outputs": [
    {
     "data": {
      "image/png": "[encoded data removed]",
      "text/plain": [
       "<Figure size 800x600 with 1 Axes>"
      ]
     },
     "metadata": {},
     "output_type": "display_data"
    }
   ],
   "source": [
    "# Get predicted probabilities for the positive class\n",
    "y_prob = model.predict_proba(X_test)[:, 1]  # Use probabilities for the positive class\n",
    "\n",
    "# Compute FPR, TPR, and thresholds\n",
    "fpr, tpr, thresholds = roc_curve(y_test, y_prob)\n",
    "\n",
    "# Compute AUC score\n",
    "auc_score = roc_auc_score(y_test, y_prob)\n",
    "\n",
    "# Plot the ROC curve\n",
    "plt.figure(figsize=(8, 6))\n",
    "plt.plot(fpr, tpr, label=f\"ROC Curve (AUC = {auc_score:.2f})\", color='blue')\n",
    "plt.plot([0, 1], [0, 1], 'k--', label=\"Random Guess\", color='red')  # Diagonal line\n",
    "plt.xlabel(\"False Positive Rate\")\n",
    "plt.ylabel(\"True Positive Rate\")\n",
    "plt.title(\"ROC Curve\")\n",
    "plt.legend(loc=\"lower right\")\n",
    "plt.grid()\n",
    "plt.show()"
   ]
  },
  {
   "cell_type": "markdown",
   "id": "4bfdb90e-94b3-4a80-a0f7-8ad7d894a5da",
   "metadata": {},
   "source": [
    "### log Loss"
   ]
  },
  {
   "cell_type": "code",
   "execution_count": 115,
   "id": "b4335200-727b-468d-b5f2-f8cb4a2f3ea3",
   "metadata": {},
   "outputs": [
    {
     "data": {
      "text/plain": [
       "10.150224230268623"
      ]
     },
     "execution_count": 115,
     "metadata": {},
     "output_type": "execute_result"
    }
   ],
   "source": [
    "log_loss(y_test , y_pred_test)"
   ]
  },
  {
   "cell_type": "markdown",
   "id": "2fedde9c-bb70-4c84-aedd-825da6088d98",
   "metadata": {},
   "source": [
    "### Classification Report"
   ]
  },
  {
   "cell_type": "code",
   "execution_count": 121,
   "id": "8a78192b-2be7-4b66-89ba-bc6621727777",
   "metadata": {},
   "outputs": [
    {
     "name": "stdout",
     "output_type": "stream",
     "text": [
      "              precision    recall  f1-score   support\n",
      "\n",
      " Negative(0)       0.67      0.81      0.73        83\n",
      " Positive(1)       0.78      0.64      0.70        91\n",
      "\n",
      "    accuracy                           0.72       174\n",
      "   macro avg       0.73      0.72      0.72       174\n",
      "weighted avg       0.73      0.72      0.72       174\n",
      "\n"
     ]
    }
   ],
   "source": [
    "#Using F1 Score we are checking the accuracy on the testing dataset\n",
    "target_names= [\"Negative(0)\",\"Positive(1)\"]\n",
    "# Classification Report\n",
    "print(classification_report(y_test,y_pred_test,target_names=target_names))"
   ]
  },
  {
   "cell_type": "markdown",
   "id": "14feb8c7-7d2e-40f4-a95e-0eb890e16de4",
   "metadata": {},
   "source": [
    "<div class='alert alert-info alert-block' align='center'><h3>Hypertunning the model</h3></div>"
   ]
  },
  {
   "cell_type": "code",
   "execution_count": 126,
   "id": "3045d3d4-0d3e-4485-b8a0-c96493903632",
   "metadata": {},
   "outputs": [
    {
     "name": "stdout",
     "output_type": "stream",
     "text": [
      "{'kernel': 'rbf'}\n",
      "0.6451284686536485\n"
     ]
    }
   ],
   "source": [
    "# parameter for hypertunning the model\n",
    "param_grid = [{\n",
    "    'kernel': ['linear', 'poly', 'rbf', 'sigmoid']\n",
    "}]\n",
    "\n",
    "# using gridsearch method to find best parameter \n",
    "grid_search = GridSearchCV(svc ,param_grid=param_grid , cv=5 , scoring='accuracy')\n",
    "\n",
    "# fitting the model\n",
    "grid_search.fit(X_train , y_train)\n",
    "\n",
    "# getting the parameters , score after grid search\n",
    "best_params = grid_search.best_params_\n",
    "score = grid_search.best_score_\n",
    "\n",
    "# printing the parameters , score\n",
    "print(best_params)\n",
    "print(score)"
   ]
  },
  {
   "cell_type": "code",
   "execution_count": 128,
   "id": "9d362eb7-0402-4d62-8c5f-e8e8123367d0",
   "metadata": {},
   "outputs": [
    {
     "name": "stdout",
     "output_type": "stream",
     "text": [
      "{'C': 100, 'gamma': 0.01, 'kernel': 'rbf'}\n",
      "0.6609763617677287\n"
     ]
    }
   ],
   "source": [
    "# parameter for hypertunning the model\n",
    "param_grid = [{\n",
    "    'kernel':['rbf'],\n",
    "    'C': [0.1, 1, 10, 100],\n",
    "    'gamma': ['scale', 'auto', 0.01, 0.1, 1,10,100]\n",
    "    \n",
    "}]\n",
    "\n",
    "# using gridsearch method to find best parameter \n",
    "grid_search = GridSearchCV(svc ,param_grid=param_grid , cv=5 , scoring='accuracy')\n",
    "\n",
    "# fitting the model\n",
    "grid_search.fit(X_train , y_train)\n",
    "\n",
    "# getting the parameters , score after grid search\n",
    "best_params = grid_search.best_params_\n",
    "score = grid_search.best_score_\n",
    "\n",
    "# printing the parameters , score\n",
    "print(best_params)\n",
    "print(score)"
   ]
  },
  {
   "cell_type": "code",
   "execution_count": 130,
   "id": "8a77ab20-46e4-4d68-b779-11cfa56fbb0e",
   "metadata": {},
   "outputs": [],
   "source": [
    "best_model = grid_search.best_estimator_"
   ]
  },
  {
   "cell_type": "code",
   "execution_count": 132,
   "id": "7d169fd3-7834-4d51-bd0d-022f603ed032",
   "metadata": {},
   "outputs": [
    {
     "name": "stdout",
     "output_type": "stream",
     "text": [
      "Accuracy Score :  0.7068965517241379\n"
     ]
    }
   ],
   "source": [
    "# predicting using best model\n",
    "\n",
    "y_pred = best_model.predict(X_test)\n",
    "\n",
    "accuracyScore = accuracy_score(y_test , y_pred)\n",
    "print('Accuracy Score : ',accuracyScore)"
   ]
  },
  {
   "cell_type": "markdown",
   "id": "010f8dc7-2fdf-4eb0-9285-17f2a37e1fa7",
   "metadata": {},
   "source": [
    "### updating the score card "
   ]
  },
  {
   "cell_type": "code",
   "execution_count": 135,
   "id": "8f29c396-820d-4878-b692-05f46845981a",
   "metadata": {},
   "outputs": [],
   "source": [
    "score_card = pd.DataFrame(columns=['model_name','Accuracy Score','Precision Score','Recall Score','AUC Score','f1 Score'])\n",
    "\n",
    "def update_score_card(score_card, y_test, y_pred, model_name, y_prob=None):\n",
    "    \"\"\"\n",
    "    Updates the score_card DataFrame with evaluation metrics for a given model.\n",
    "    \"\"\"\n",
    "    metrics = {\n",
    "        'model_name': model_name,\n",
    "        'Accuracy Score': accuracy_score(y_test, y_pred),\n",
    "        'Precision Score': precision_score(y_test, y_pred, average='binary', zero_division=0),\n",
    "        'Recall Score': recall_score(y_test, y_pred, average='binary', zero_division=0),\n",
    "        'f1 Score': f1_score(y_test, y_pred, average='binary', zero_division=0)\n",
    "    }\n",
    "    \n",
    "    if y_prob is not None:\n",
    "        metrics['AUC Score'] = roc_auc_score(y_test, y_prob)\n",
    "    else:\n",
    "        metrics['AUC Score'] = None\n",
    "\n",
    "    # Create a new DataFrame for the metrics\n",
    "    metrics_df = pd.DataFrame([metrics])\n",
    "\n",
    "    # Concatenate with the existing score_card\n",
    "    score_card = pd.concat([score_card, metrics_df], ignore_index=True)\n",
    "    return score_card\n"
   ]
  },
  {
   "cell_type": "code",
   "execution_count": 137,
   "id": "582b3637-936c-470c-be5e-a87254d12276",
   "metadata": {},
   "outputs": [],
   "source": [
    "score_card = update_score_card(score_card , y_train , y_pred_train , 'Train Data',model.predict_proba(X_train)[:,1])"
   ]
  },
  {
   "cell_type": "code",
   "execution_count": 139,
   "id": "c1fc278d-ca9a-4cab-b542-c75bb172aeeb",
   "metadata": {},
   "outputs": [],
   "source": [
    "score_card = update_score_card(score_card , y_test , y_pred_test , 'Test Data',model.predict_proba(X_test)[:,1])"
   ]
  },
  {
   "cell_type": "code",
   "execution_count": 141,
   "id": "55c56e05-9776-4e54-b86c-b7dc17283c3e",
   "metadata": {},
   "outputs": [],
   "source": [
    "score_card = update_score_card(score_card , y_test , y_pred , 'Tunned model',best_model.predict_proba(X_test)[:,1])"
   ]
  },
  {
   "cell_type": "code",
   "execution_count": 143,
   "id": "deab4340-e3ea-4cee-afd4-74c632c9ae49",
   "metadata": {},
   "outputs": [
    {
     "data": {
      "text/html": [
       "<div>\n",
       "<style scoped>\n",
       "    .dataframe tbody tr th:only-of-type {\n",
       "        vertical-align: middle;\n",
       "    }\n",
       "\n",
       "    .dataframe tbody tr th {\n",
       "        vertical-align: top;\n",
       "    }\n",
       "\n",
       "    .dataframe thead th {\n",
       "        text-align: right;\n",
       "    }\n",
       "</style>\n",
       "<table border=\"1\" class=\"dataframe\">\n",
       "  <thead>\n",
       "    <tr style=\"text-align: right;\">\n",
       "      <th></th>\n",
       "      <th>model_name</th>\n",
       "      <th>Accuracy Score</th>\n",
       "      <th>Precision Score</th>\n",
       "      <th>Recall Score</th>\n",
       "      <th>AUC Score</th>\n",
       "      <th>f1 Score</th>\n",
       "    </tr>\n",
       "  </thead>\n",
       "  <tbody>\n",
       "    <tr>\n",
       "      <th>0</th>\n",
       "      <td>Train Data</td>\n",
       "      <td>0.711207</td>\n",
       "      <td>0.739286</td>\n",
       "      <td>0.617910</td>\n",
       "      <td>0.783098</td>\n",
       "      <td>0.673171</td>\n",
       "    </tr>\n",
       "    <tr>\n",
       "      <th>1</th>\n",
       "      <td>Test Data</td>\n",
       "      <td>0.718391</td>\n",
       "      <td>0.783784</td>\n",
       "      <td>0.637363</td>\n",
       "      <td>0.764729</td>\n",
       "      <td>0.703030</td>\n",
       "    </tr>\n",
       "    <tr>\n",
       "      <th>2</th>\n",
       "      <td>Tunned model</td>\n",
       "      <td>0.706897</td>\n",
       "      <td>0.756410</td>\n",
       "      <td>0.648352</td>\n",
       "      <td>0.761750</td>\n",
       "      <td>0.698225</td>\n",
       "    </tr>\n",
       "  </tbody>\n",
       "</table>\n",
       "</div>"
      ],
      "text/plain": [
       "     model_name  Accuracy Score  Precision Score  Recall Score  AUC Score  \\\n",
       "0    Train Data        0.711207         0.739286      0.617910   0.783098   \n",
       "1     Test Data        0.718391         0.783784      0.637363   0.764729   \n",
       "2  Tunned model        0.706897         0.756410      0.648352   0.761750   \n",
       "\n",
       "   f1 Score  \n",
       "0  0.673171  \n",
       "1  0.703030  \n",
       "2  0.698225  "
      ]
     },
     "execution_count": 143,
     "metadata": {},
     "output_type": "execute_result"
    }
   ],
   "source": [
    "score_card"
   ]
  },
  {
   "cell_type": "markdown",
   "id": "a881f429-5f66-4ba5-a949-c2d0a495d61b",
   "metadata": {},
   "source": [
    "**The initial model seems to perform better than the tuned model. While the initial model showed similar accuracy scores for both training and testing data, the tuned model exhibits a lower accuracy compared to the initial model. This may indicate that the tuning process did not improve the model's generalization, possibly due to the limited volume of data.**"
   ]
  },
  {
   "cell_type": "code",
   "execution_count": null,
   "id": "9f367979-4657-4c96-be97-e73d4d69ecfb",
   "metadata": {},
   "outputs": [],
   "source": []
  }
 ],
 "metadata": {
  "kernelspec": {
   "display_name": "Python 3 (ipykernel)",
   "language": "python",
   "name": "python3"
  },
  "language_info": {
   "codemirror_mode": {
    "name": "ipython",
    "version": 3
   },
   "file_extension": ".py",
   "mimetype": "text/x-python",
   "name": "python",
   "nbconvert_exporter": "python",
   "pygments_lexer": "ipython3",
   "version": "3.12.4"
  }
 },
 "nbformat": 4,
 "nbformat_minor": 5
}
